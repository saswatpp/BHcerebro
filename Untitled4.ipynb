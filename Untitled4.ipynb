{
 "cells": [
  {
   "cell_type": "code",
   "execution_count": null,
   "metadata": {},
   "outputs": [],
   "source": [
    "import pandas as pd\n",
    "import numpy as np\n",
    "trainX = pd.read_csv('training_queries.csv')\n",
    "trainY = pd.read_csv('training_queries_labels.csv')\n",
    "trainX=trainX.set_index('index')\n",
    "trainY=trainY.set_index('index')\n",
    "Y_train = trainY.values\n",
    "Y_train = Y_train.ravel()\n",
    "X_train = trainX.values.ravel()\n",
    "from sklearn.feature_extraction.text import CountVectorizer\n",
    "ytest = pd.read_csv('test.csv')\n",
    "y_test=ytest['query'].values.ravel()\n",
    "import spacy\n",
    "from spacy.lang.en import English\n",
    "import nltk\n",
    "# Technicality: we want to use the regexp-based tokenizer\n",
    "# that is used by CountVectorizer and only use the lemmatization\n",
    "# from spacy. To this end, we replace en_nlp.tokenizer (the spacy tokenizer)\n",
    "# with the regexp-based tokenization.\n",
    "import re\n",
    "# regexp used in CountVectorizer\n",
    "regexp = re.compile('(?u)\\\\b\\\\w\\\\w+\\\\b')\n",
    "# load spacy language model and save old tokenizer\n",
    "en_nlp = spacy.load('en')\n",
    "old_tokenizer = en_nlp.tokenizer\n",
    "# replace the tokenizer with the preceding regexp\n",
    "en_nlp.tokenizer = lambda string: old_tokenizer.tokens_from_list(regexp.findall(string))\n",
    "# create a custom tokenizer using the spacy document processing pipeline\n",
    "# (now using our own tokenizer)\n",
    "def custom_tokenizer(document):\n",
    "    doc_spacy = en_nlp(document)\n",
    "    return [token.lemma_ for token in doc_spacy]\n",
    "# define a count vectorizer with the custom tokenizer\n",
    "lemma_vect = CountVectorizer(tokenizer=custom_tokenizer, min_df=2)\n",
    "\n",
    "Xtrain = lemma_vect.fit_transform(X_train)\n",
    "#,entity=False , parse=False\n",
    "print((Xtrain.shape))\n",
    "\n",
    "yy_test = lemma_vect.transform(y_test)\n",
    "print((yy_test.shape))\n",
    "\n",
    "from sklearn.svm import LinearSVC\n",
    "svc = LinearSVC(C=0.1)\n",
    "svc.fit(Xtrain,Y_train)\n",
    "y=svc.predict(yy_test)\n",
    "Y=pd.DataFrame(y)\n",
    "Z=pd.DataFrame(ytest['index'])\n",
    "Z['tag']=Y\n",
    "Z.to_csv('prediction.csv')\n",
    "Z=Z.set_index('index')\n",
    "Z.to_csv('prediction.csv')"
   ]
  }
 ],
 "metadata": {
  "kernelspec": {
   "display_name": "Python 3",
   "language": "python",
   "name": "python3"
  },
  "language_info": {
   "codemirror_mode": {
    "name": "ipython",
    "version": 3
   },
   "file_extension": ".py",
   "mimetype": "text/x-python",
   "name": "python",
   "nbconvert_exporter": "python",
   "pygments_lexer": "ipython3",
   "version": "3.6.5"
  }
 },
 "nbformat": 4,
 "nbformat_minor": 2
}
